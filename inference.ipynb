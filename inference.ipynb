{
 "cells": [
  {
   "cell_type": "code",
   "execution_count": 1,
   "metadata": {},
   "outputs": [],
   "source": [
    "import torch\n",
    "\n",
    "import torch.nn.functional as F\n",
    "from torch.optim import AdamW\n",
    "from core.tokenizers.regex import get_tokenizer\n",
    "from core.utils import get_param_count\n",
    "from core.config import device\n",
    "from core.models import Generator"
   ]
  },
  {
   "cell_type": "code",
   "execution_count": 2,
   "metadata": {},
   "outputs": [],
   "source": [
    "BLOCK_SIZE = 128\n",
    "BATCH_SIZE = 128\n",
    "EPOCHS = 10\n",
    "EMBEDDING_SIZE = 768\n",
    "LAYERS = 5\n",
    "HEADS = 16\n",
    "TRAIN_FILE = \"datasets/train.txt\"\n",
    "TEST_FILE = \"datasets/test.txt\""
   ]
  },
  {
   "cell_type": "code",
   "execution_count": 4,
   "metadata": {},
   "outputs": [],
   "source": [
    "tokenizer = get_tokenizer(\"poems.txt\", 1024, \"tokenizer/en\", True)"
   ]
  },
  {
   "cell_type": "code",
   "execution_count": 5,
   "metadata": {},
   "outputs": [],
   "source": [
    "model_checkpoint = \"TRL_2.7444_TSL_3.1112_EMB_768_LYR_5_HDS_16_CTX_256_LR_0.0001.pth\"\n",
    "model = Generator(tokenizer.size, EMBEDDING_SIZE, BLOCK_SIZE, LAYERS, HEADS, device)\n",
    "model.load_state_dict(torch.load(model_checkpoint))\n",
    "# print(\"%.4f mn parameters\" % (get_param_count(model) / 1e6, ))"
   ]
  },
  {
   "cell_type": "code",
   "execution_count": 10,
   "metadata": {},
   "outputs": [
    {
     "name": "stdout",
     "output_type": "stream",
     "text": [
      "ity� me� child dsows H theeNoriend d� E.\" dYou Tifect itndauseaught� flowL F�\u0018dsakeringu it day��� str__k��fehedount� qu night up\u001bAsasest.A���"
     ]
    },
    {
     "ename": "ValueError",
     "evalue": "invalid token id: 1029",
     "output_type": "error",
     "traceback": [
      "\u001b[1;31m---------------------------------------------------------------------------\u001b[0m",
      "\u001b[1;31mValueError\u001b[0m                                Traceback (most recent call last)",
      "Cell \u001b[1;32mIn[10], line 13\u001b[0m\n\u001b[0;32m     10\u001b[0m     context \u001b[38;5;241m=\u001b[39m torch\u001b[38;5;241m.\u001b[39mcat((context, next_token), dim\u001b[38;5;241m=\u001b[39m\u001b[38;5;241m1\u001b[39m)[:, \u001b[38;5;241m-\u001b[39mBLOCK_SIZE:]\n\u001b[0;32m     11\u001b[0m   \u001b[38;5;28;01mreturn\u001b[39;00m output\n\u001b[1;32m---> 13\u001b[0m \u001b[43mgenerate\u001b[49m\u001b[43m(\u001b[49m\u001b[43mtext\u001b[49m\u001b[38;5;241;43m=\u001b[39;49m\u001b[38;5;124;43m\"\u001b[39;49m\u001b[38;5;124;43mwomen\u001b[39;49m\u001b[38;5;124;43m\"\u001b[39;49m\u001b[43m)\u001b[49m\n",
      "Cell \u001b[1;32mIn[10], line 9\u001b[0m, in \u001b[0;36mgenerate\u001b[1;34m(text, max_len)\u001b[0m\n\u001b[0;32m      7\u001b[0m   probs \u001b[38;5;241m=\u001b[39m probs[:, \u001b[38;5;241m-\u001b[39m\u001b[38;5;241m1\u001b[39m:, :]\u001b[38;5;241m.\u001b[39mview(\u001b[38;5;241m-\u001b[39m\u001b[38;5;241m1\u001b[39m, tokenizer\u001b[38;5;241m.\u001b[39msize)\n\u001b[0;32m      8\u001b[0m   next_token \u001b[38;5;241m=\u001b[39m torch\u001b[38;5;241m.\u001b[39mmultinomial(probs, num_samples\u001b[38;5;241m=\u001b[39m\u001b[38;5;241m1\u001b[39m)\n\u001b[1;32m----> 9\u001b[0m   \u001b[38;5;28mprint\u001b[39m(\u001b[43mtokenizer\u001b[49m\u001b[38;5;241;43m.\u001b[39;49m\u001b[43mdecode\u001b[49m\u001b[43m(\u001b[49m\u001b[43m[\u001b[49m\u001b[43mnext_token\u001b[49m\u001b[38;5;241;43m.\u001b[39;49m\u001b[43mitem\u001b[49m\u001b[43m(\u001b[49m\u001b[43m)\u001b[49m\u001b[43m]\u001b[49m\u001b[43m)\u001b[49m, end\u001b[38;5;241m=\u001b[39m\u001b[38;5;124m\"\u001b[39m\u001b[38;5;124m\"\u001b[39m)\n\u001b[0;32m     10\u001b[0m   context \u001b[38;5;241m=\u001b[39m torch\u001b[38;5;241m.\u001b[39mcat((context, next_token), dim\u001b[38;5;241m=\u001b[39m\u001b[38;5;241m1\u001b[39m)[:, \u001b[38;5;241m-\u001b[39mBLOCK_SIZE:]\n\u001b[0;32m     11\u001b[0m \u001b[38;5;28;01mreturn\u001b[39;00m output\n",
      "File \u001b[1;32mc:\\Users\\nites\\Documents\\poet\\core\\tokenizers\\regex.py:56\u001b[0m, in \u001b[0;36mRegexTokenizer.decode\u001b[1;34m(self, ids)\u001b[0m\n\u001b[0;32m     54\u001b[0m         part_bytes\u001b[38;5;241m.\u001b[39mappend(\u001b[38;5;28mself\u001b[39m\u001b[38;5;241m.\u001b[39minverse_special_tokens[idx]\u001b[38;5;241m.\u001b[39mencode(\u001b[38;5;124m\"\u001b[39m\u001b[38;5;124mutf-8\u001b[39m\u001b[38;5;124m\"\u001b[39m))\n\u001b[0;32m     55\u001b[0m     \u001b[38;5;28;01melse\u001b[39;00m:\n\u001b[1;32m---> 56\u001b[0m         \u001b[38;5;28;01mraise\u001b[39;00m \u001b[38;5;167;01mValueError\u001b[39;00m(\u001b[38;5;124mf\u001b[39m\u001b[38;5;124m\"\u001b[39m\u001b[38;5;124minvalid token id: \u001b[39m\u001b[38;5;132;01m{\u001b[39;00midx\u001b[38;5;132;01m}\u001b[39;00m\u001b[38;5;124m\"\u001b[39m)\n\u001b[0;32m     57\u001b[0m text_bytes \u001b[38;5;241m=\u001b[39m \u001b[38;5;124mb\u001b[39m\u001b[38;5;124m\"\u001b[39m\u001b[38;5;124m\"\u001b[39m\u001b[38;5;241m.\u001b[39mjoin(part_bytes)\n\u001b[0;32m     58\u001b[0m text \u001b[38;5;241m=\u001b[39m text_bytes\u001b[38;5;241m.\u001b[39mdecode(\u001b[38;5;124m\"\u001b[39m\u001b[38;5;124mutf-8\u001b[39m\u001b[38;5;124m\"\u001b[39m, errors\u001b[38;5;241m=\u001b[39m\u001b[38;5;124m\"\u001b[39m\u001b[38;5;124mreplace\u001b[39m\u001b[38;5;124m\"\u001b[39m)\n",
      "\u001b[1;31mValueError\u001b[0m: invalid token id: 1029"
     ]
    }
   ],
   "source": [
    "def generate(text=\" \", max_len=400):\n",
    "  context = torch.tensor([tokenizer.encode(text)], device=device)\n",
    "  output = []\n",
    "  for _ in range(max_len):\n",
    "    logits = model(context)\n",
    "    probs = F.softmax(logits, dim=-1)\n",
    "    probs = probs[:, -1:, :].view(-1, tokenizer.size)\n",
    "    next_token = torch.multinomial(probs, num_samples=1)\n",
    "    print(tokenizer.decode([next_token.item()]), end=\"\")\n",
    "    context = torch.cat((context, next_token), dim=1)[:, -BLOCK_SIZE:]\n",
    "  return output\n",
    "\n",
    "generate(text=\"women\")"
   ]
  }
 ],
 "metadata": {
  "kernelspec": {
   "display_name": "poet",
   "language": "python",
   "name": "python3"
  },
  "language_info": {
   "codemirror_mode": {
    "name": "ipython",
    "version": 3
   },
   "file_extension": ".py",
   "mimetype": "text/x-python",
   "name": "python",
   "nbconvert_exporter": "python",
   "pygments_lexer": "ipython3",
   "version": "3.12.8"
  }
 },
 "nbformat": 4,
 "nbformat_minor": 2
}
