{
 "cells": [
  {
   "cell_type": "code",
   "execution_count": null,
   "metadata": {},
   "outputs": [],
   "source": [
    "from google.colab import drive\n",
    "drive.mount(\"/content/drive\")"
   ]
  },
  {
   "cell_type": "code",
   "execution_count": null,
   "metadata": {},
   "outputs": [],
   "source": [
    "!git clone https://github.com/n1teshy/poet2 > /dev/null\n",
    "!mv poet2/* . && rm -rf poet2 > /dev/null\n",
    "# !ls drive/MyDrive/checkpoints/en-hi\n",
    "!mv drive/MyDrive/datasets/poet2* .\n",
    "!ls"
   ]
  },
  {
   "cell_type": "code",
   "execution_count": null,
   "metadata": {},
   "outputs": [],
   "source": [
    "import torch\n",
    "from core.datasets.text import GenerativeDataset\n",
    "from core.tokenizers.regex import RegexTokenizer\n",
    "from core.models import Generator\n",
    "from core.utils import get_param_count"
   ]
  },
  {
   "cell_type": "code",
   "execution_count": null,
   "metadata": {},
   "outputs": [],
   "source": [
    "device = torch.device(\"cuda\" if torch.cuda.is_available() else \"cpu\")\n",
    "BATCH_SIZE = 16\n",
    "MODEL_D = 128\n",
    "MAX_LEN = 512\n",
    "CONTEXT_SIZE = 512\n",
    "LAYERS = 4\n",
    "HEADS = 4"
   ]
  },
  {
   "cell_type": "code",
   "execution_count": null,
   "metadata": {},
   "outputs": [],
   "source": [
    "tokenizer = RegexTokenizer()\n",
    "tokenizer.load(\"tokenizer/poet2_tokenizer.model\")\n",
    "dataset = GenerativeDataset(\"poet2_71683.pkl\", BATCH_SIZE, device, tokenizer=tokenizer, from_pickle=True)\n",
    "model = Generator(tokenizer.size, MODEL_D, MAX_LEN, LAYERS, HEADS, tokenizer.pad_id, device)\n",
    "optimizer = torch.optim.AdamW(model.parameters(), lr=0.01)\n",
    "print(get_param_count(model) / 1e6)"
   ]
  },
  {
   "cell_type": "code",
   "execution_count": null,
   "metadata": {},
   "outputs": [],
   "source": [
    "idx = 0\n",
    "while True:\n",
    "    batch = dataset.next_batch()\n",
    "    if batch is None:\n",
    "        break\n",
    "    _, loss = model(batch[0], batch[1])\n",
    "    optimizer.zero_grad()\n",
    "    loss.backward()\n",
    "    optimizer.step()\n",
    "    if idx % 5 == 0:\n",
    "        print(loss.item())\n",
    "    idx += 1"
   ]
  }
 ],
 "metadata": {
  "language_info": {
   "name": "python"
  }
 },
 "nbformat": 4,
 "nbformat_minor": 2
}
