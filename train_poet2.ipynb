{
 "cells": [
  {
   "cell_type": "code",
   "execution_count": 1,
   "metadata": {},
   "outputs": [],
   "source": [
    "import torch\n",
    "from core.datasets.text import GenerativeDataset\n",
    "from core.tokenizers.regex import RegexTokenizer\n",
    "from core.models import Generator\n",
    "from core.utils import get_param_count"
   ]
  },
  {
   "cell_type": "code",
   "execution_count": 4,
   "metadata": {},
   "outputs": [],
   "source": [
    "device = torch.device(\"cuda\" if torch.cuda.is_available() else \"cpu\")\n",
    "BATCH_SIZE = 16\n",
    "MODEL_D = 128\n",
    "MAX_LEN = 512\n",
    "CONTEXT_SIZE = 512\n",
    "LAYERS = 4\n",
    "HEADS = 4"
   ]
  },
  {
   "cell_type": "code",
   "execution_count": 5,
   "metadata": {},
   "outputs": [
    {
     "name": "stdout",
     "output_type": "stream",
     "text": [
      "1.057027\n"
     ]
    }
   ],
   "source": [
    "tokenizer = RegexTokenizer()\n",
    "tokenizer.load(\"tokenizer/poet2_tokenizer.model\")\n",
    "dataset = GenerativeDataset(\"poet2_71683.pkl\", BATCH_SIZE, device, tokenizer=tokenizer, from_pickle=True)\n",
    "model = Generator(tokenizer.size, MODEL_D, MAX_LEN, LAYERS, HEADS, tokenizer.pad_id, device)\n",
    "optimizer = torch.optim.AdamW(model.parameters(), lr=0.01)\n",
    "print(get_param_count(model) / 1e6)"
   ]
  },
  {
   "cell_type": "code",
   "execution_count": 6,
   "metadata": {},
   "outputs": [
    {
     "name": "stdout",
     "output_type": "stream",
     "text": [
      "7.111364364624023\n",
      "6.238736152648926\n",
      "6.2579450607299805\n",
      "6.134841442108154\n",
      "5.921986103057861\n",
      "5.978312969207764\n",
      "5.9354705810546875\n",
      "5.752553939819336\n",
      "5.979574680328369\n",
      "6.176748752593994\n",
      "6.203634738922119\n"
     ]
    }
   ],
   "source": [
    "idx = 0\n",
    "while True:\n",
    "    batch = dataset.next_batch()\n",
    "    if batch is None:\n",
    "        break\n",
    "    _, loss = model(batch[0], batch[1])\n",
    "    optimizer.zero_grad()\n",
    "    loss.backward()\n",
    "    optimizer.step()\n",
    "    if idx % 5 == 0:\n",
    "        print(loss.item())\n",
    "    idx += 1"
   ]
  }
 ],
 "metadata": {
  "kernelspec": {
   "display_name": "Python 3",
   "language": "python",
   "name": "python3"
  },
  "language_info": {
   "codemirror_mode": {
    "name": "ipython",
    "version": 3
   },
   "file_extension": ".py",
   "mimetype": "text/x-python",
   "name": "python",
   "nbconvert_exporter": "python",
   "pygments_lexer": "ipython3",
   "version": "3.11.4"
  }
 },
 "nbformat": 4,
 "nbformat_minor": 2
}
