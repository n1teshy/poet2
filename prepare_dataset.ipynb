{
 "cells": [
  {
   "cell_type": "code",
   "execution_count": 1,
   "metadata": {},
   "outputs": [],
   "source": [
    "import torch\n",
    "from core.tokenizers.regex import RegexTokenizer\n",
    "from core.datasets.text import GenerativeDataset"
   ]
  },
  {
   "cell_type": "code",
   "execution_count": 2,
   "metadata": {},
   "outputs": [],
   "source": [
    "tokenizer = RegexTokenizer()\n",
    "tokenizer.load(\"tokenizer/poet2_tokenizer.model\")"
   ]
  },
  {
   "cell_type": "code",
   "execution_count": 3,
   "metadata": {},
   "outputs": [
    {
     "name": "stdout",
     "output_type": "stream",
     "text": [
      "tokenizing text...\n",
      "[==============================================================================]\n"
     ]
    }
   ],
   "source": [
    "dataset = GenerativeDataset(\"poems\", 16, torch.device(\"cpu\"), tokenizer, 512)"
   ]
  },
  {
   "cell_type": "code",
   "execution_count": 8,
   "metadata": {},
   "outputs": [],
   "source": [
    "dataset.samples = [sample for sample in dataset.samples if len(sample) > 1]"
   ]
  },
  {
   "cell_type": "code",
   "execution_count": 51,
   "metadata": {},
   "outputs": [],
   "source": [
    "# dataset = GenerativeDataset(\"poet2_data.pkl\", 16, torch.device(\"cpu\"), tokenizer=tokenizer, from_pickle=True)"
   ]
  },
  {
   "cell_type": "code",
   "execution_count": 4,
   "metadata": {},
   "outputs": [
    {
     "data": {
      "text/plain": [
       "39"
      ]
     },
     "execution_count": 4,
     "metadata": {},
     "output_type": "execute_result"
    }
   ],
   "source": [
    "x, y = dataset.next_batch()\n",
    "\n",
    "for i in range(x.shape[0]):\n",
    "    print(x[i].tolist())\n",
    "    print(y[i].tolist())\n",
    "    print(\"- \" * 30)\n",
    "# sum(int(len(sample) == 1 and sample[0] == tokenizer.eos_id) for sample in dataset.samples)"
   ]
  }
 ],
 "metadata": {
  "kernelspec": {
   "display_name": "Python 3",
   "language": "python",
   "name": "python3"
  },
  "language_info": {
   "codemirror_mode": {
    "name": "ipython",
    "version": 3
   },
   "file_extension": ".py",
   "mimetype": "text/x-python",
   "name": "python",
   "nbconvert_exporter": "python",
   "pygments_lexer": "ipython3",
   "version": "3.11.4"
  }
 },
 "nbformat": 4,
 "nbformat_minor": 2
}
